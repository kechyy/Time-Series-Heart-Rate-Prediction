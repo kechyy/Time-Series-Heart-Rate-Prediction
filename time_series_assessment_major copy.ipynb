{
  "nbformat": 4,
  "nbformat_minor": 0,
  "metadata": {
    "colab": {
      "provenance": []
    },
    "kernelspec": {
      "name": "python3",
      "display_name": "Python 3"
    },
    "language_info": {
      "name": "python"
    }
  },
  "cells": [
    {
      "cell_type": "markdown",
      "source": [
        "Missing dependencies installations"
      ],
      "metadata": {
        "id": "8lx7rG3PAJSK"
      }
    },
    {
      "cell_type": "code",
      "execution_count": 1,
      "metadata": {
        "colab": {
          "base_uri": "https://localhost:8080/"
        },
        "id": "e_Zl1hPT_7ZG",
        "outputId": "ffe27b55-0d2b-49fc-ec85-75395f50c941"
      },
      "outputs": [
        {
          "output_type": "stream",
          "name": "stdout",
          "text": [
            "Collecting tbats\n",
            "  Downloading tbats-1.1.3-py3-none-any.whl.metadata (3.8 kB)\n",
            "Requirement already satisfied: numpy in /usr/local/lib/python3.11/dist-packages (from tbats) (1.26.4)\n",
            "Requirement already satisfied: scipy in /usr/local/lib/python3.11/dist-packages (from tbats) (1.13.1)\n",
            "Collecting pmdarima (from tbats)\n",
            "  Downloading pmdarima-2.0.4-cp311-cp311-manylinux_2_17_x86_64.manylinux2014_x86_64.manylinux_2_28_x86_64.whl.metadata (7.8 kB)\n",
            "Requirement already satisfied: scikit-learn in /usr/local/lib/python3.11/dist-packages (from tbats) (1.6.1)\n",
            "Requirement already satisfied: joblib>=0.11 in /usr/local/lib/python3.11/dist-packages (from pmdarima->tbats) (1.4.2)\n",
            "Requirement already satisfied: Cython!=0.29.18,!=0.29.31,>=0.29 in /usr/local/lib/python3.11/dist-packages (from pmdarima->tbats) (3.0.12)\n",
            "Requirement already satisfied: pandas>=0.19 in /usr/local/lib/python3.11/dist-packages (from pmdarima->tbats) (2.2.2)\n",
            "Requirement already satisfied: statsmodels>=0.13.2 in /usr/local/lib/python3.11/dist-packages (from pmdarima->tbats) (0.14.4)\n",
            "Requirement already satisfied: urllib3 in /usr/local/lib/python3.11/dist-packages (from pmdarima->tbats) (2.3.0)\n",
            "Requirement already satisfied: setuptools!=50.0.0,>=38.6.0 in /usr/local/lib/python3.11/dist-packages (from pmdarima->tbats) (75.1.0)\n",
            "Requirement already satisfied: packaging>=17.1 in /usr/local/lib/python3.11/dist-packages (from pmdarima->tbats) (24.2)\n",
            "Requirement already satisfied: threadpoolctl>=3.1.0 in /usr/local/lib/python3.11/dist-packages (from scikit-learn->tbats) (3.5.0)\n",
            "Requirement already satisfied: python-dateutil>=2.8.2 in /usr/local/lib/python3.11/dist-packages (from pandas>=0.19->pmdarima->tbats) (2.8.2)\n",
            "Requirement already satisfied: pytz>=2020.1 in /usr/local/lib/python3.11/dist-packages (from pandas>=0.19->pmdarima->tbats) (2025.1)\n",
            "Requirement already satisfied: tzdata>=2022.7 in /usr/local/lib/python3.11/dist-packages (from pandas>=0.19->pmdarima->tbats) (2025.1)\n",
            "Requirement already satisfied: patsy>=0.5.6 in /usr/local/lib/python3.11/dist-packages (from statsmodels>=0.13.2->pmdarima->tbats) (1.0.1)\n",
            "Requirement already satisfied: six>=1.5 in /usr/local/lib/python3.11/dist-packages (from python-dateutil>=2.8.2->pandas>=0.19->pmdarima->tbats) (1.17.0)\n",
            "Downloading tbats-1.1.3-py3-none-any.whl (44 kB)\n",
            "\u001b[2K   \u001b[90m━━━━━━━━━━━━━━━━━━━━━━━━━━━━━━━━━━━━━━━━\u001b[0m \u001b[32m44.0/44.0 kB\u001b[0m \u001b[31m855.3 kB/s\u001b[0m eta \u001b[36m0:00:00\u001b[0m\n",
            "\u001b[?25hDownloading pmdarima-2.0.4-cp311-cp311-manylinux_2_17_x86_64.manylinux2014_x86_64.manylinux_2_28_x86_64.whl (2.2 MB)\n",
            "\u001b[2K   \u001b[90m━━━━━━━━━━━━━━━━━━━━━━━━━━━━━━━━━━━━━━━━\u001b[0m \u001b[32m2.2/2.2 MB\u001b[0m \u001b[31m29.5 MB/s\u001b[0m eta \u001b[36m0:00:00\u001b[0m\n",
            "\u001b[?25hInstalling collected packages: pmdarima, tbats\n",
            "Successfully installed pmdarima-2.0.4 tbats-1.1.3\n",
            "Requirement already satisfied: tbats in /usr/local/lib/python3.11/dist-packages (1.1.3)\n",
            "Requirement already satisfied: numpy in /usr/local/lib/python3.11/dist-packages (from tbats) (1.26.4)\n",
            "Requirement already satisfied: scipy in /usr/local/lib/python3.11/dist-packages (from tbats) (1.13.1)\n",
            "Requirement already satisfied: pmdarima in /usr/local/lib/python3.11/dist-packages (from tbats) (2.0.4)\n",
            "Requirement already satisfied: scikit-learn in /usr/local/lib/python3.11/dist-packages (from tbats) (1.6.1)\n",
            "Requirement already satisfied: joblib>=0.11 in /usr/local/lib/python3.11/dist-packages (from pmdarima->tbats) (1.4.2)\n",
            "Requirement already satisfied: Cython!=0.29.18,!=0.29.31,>=0.29 in /usr/local/lib/python3.11/dist-packages (from pmdarima->tbats) (3.0.12)\n",
            "Requirement already satisfied: pandas>=0.19 in /usr/local/lib/python3.11/dist-packages (from pmdarima->tbats) (2.2.2)\n",
            "Requirement already satisfied: statsmodels>=0.13.2 in /usr/local/lib/python3.11/dist-packages (from pmdarima->tbats) (0.14.4)\n",
            "Requirement already satisfied: urllib3 in /usr/local/lib/python3.11/dist-packages (from pmdarima->tbats) (2.3.0)\n",
            "Requirement already satisfied: setuptools!=50.0.0,>=38.6.0 in /usr/local/lib/python3.11/dist-packages (from pmdarima->tbats) (75.1.0)\n",
            "Requirement already satisfied: packaging>=17.1 in /usr/local/lib/python3.11/dist-packages (from pmdarima->tbats) (24.2)\n",
            "Requirement already satisfied: threadpoolctl>=3.1.0 in /usr/local/lib/python3.11/dist-packages (from scikit-learn->tbats) (3.5.0)\n",
            "Requirement already satisfied: python-dateutil>=2.8.2 in /usr/local/lib/python3.11/dist-packages (from pandas>=0.19->pmdarima->tbats) (2.8.2)\n",
            "Requirement already satisfied: pytz>=2020.1 in /usr/local/lib/python3.11/dist-packages (from pandas>=0.19->pmdarima->tbats) (2025.1)\n",
            "Requirement already satisfied: tzdata>=2022.7 in /usr/local/lib/python3.11/dist-packages (from pandas>=0.19->pmdarima->tbats) (2025.1)\n",
            "Requirement already satisfied: patsy>=0.5.6 in /usr/local/lib/python3.11/dist-packages (from statsmodels>=0.13.2->pmdarima->tbats) (1.0.1)\n",
            "Requirement already satisfied: six>=1.5 in /usr/local/lib/python3.11/dist-packages (from python-dateutil>=2.8.2->pandas>=0.19->pmdarima->tbats) (1.17.0)\n",
            "Requirement already satisfied: pmdarima in /usr/local/lib/python3.11/dist-packages (2.0.4)\n",
            "Requirement already satisfied: joblib>=0.11 in /usr/local/lib/python3.11/dist-packages (from pmdarima) (1.4.2)\n",
            "Requirement already satisfied: Cython!=0.29.18,!=0.29.31,>=0.29 in /usr/local/lib/python3.11/dist-packages (from pmdarima) (3.0.12)\n",
            "Requirement already satisfied: numpy>=1.21.2 in /usr/local/lib/python3.11/dist-packages (from pmdarima) (1.26.4)\n",
            "Requirement already satisfied: pandas>=0.19 in /usr/local/lib/python3.11/dist-packages (from pmdarima) (2.2.2)\n",
            "Requirement already satisfied: scikit-learn>=0.22 in /usr/local/lib/python3.11/dist-packages (from pmdarima) (1.6.1)\n",
            "Requirement already satisfied: scipy>=1.3.2 in /usr/local/lib/python3.11/dist-packages (from pmdarima) (1.13.1)\n",
            "Requirement already satisfied: statsmodels>=0.13.2 in /usr/local/lib/python3.11/dist-packages (from pmdarima) (0.14.4)\n",
            "Requirement already satisfied: urllib3 in /usr/local/lib/python3.11/dist-packages (from pmdarima) (2.3.0)\n",
            "Requirement already satisfied: setuptools!=50.0.0,>=38.6.0 in /usr/local/lib/python3.11/dist-packages (from pmdarima) (75.1.0)\n",
            "Requirement already satisfied: packaging>=17.1 in /usr/local/lib/python3.11/dist-packages (from pmdarima) (24.2)\n",
            "Requirement already satisfied: python-dateutil>=2.8.2 in /usr/local/lib/python3.11/dist-packages (from pandas>=0.19->pmdarima) (2.8.2)\n",
            "Requirement already satisfied: pytz>=2020.1 in /usr/local/lib/python3.11/dist-packages (from pandas>=0.19->pmdarima) (2025.1)\n",
            "Requirement already satisfied: tzdata>=2022.7 in /usr/local/lib/python3.11/dist-packages (from pandas>=0.19->pmdarima) (2025.1)\n",
            "Requirement already satisfied: threadpoolctl>=3.1.0 in /usr/local/lib/python3.11/dist-packages (from scikit-learn>=0.22->pmdarima) (3.5.0)\n",
            "Requirement already satisfied: patsy>=0.5.6 in /usr/local/lib/python3.11/dist-packages (from statsmodels>=0.13.2->pmdarima) (1.0.1)\n",
            "Requirement already satisfied: six>=1.5 in /usr/local/lib/python3.11/dist-packages (from python-dateutil>=2.8.2->pandas>=0.19->pmdarima) (1.17.0)\n"
          ]
        }
      ],
      "source": [
        "!pip install tbats\n",
        "!pip install --no-cache-dir tbats\n",
        "!pip install pmdarima"
      ]
    },
    {
      "cell_type": "markdown",
      "source": [
        "Import Required Libraries"
      ],
      "metadata": {
        "id": "9K9v_qRSASAa"
      }
    },
    {
      "cell_type": "code",
      "source": [
        "import pandas as pd\n",
        "import numpy as np\n",
        "import matplotlib.pyplot as plt\n",
        "from sklearn.metrics import mean_squared_error, mean_absolute_error, r2_score\n",
        "from statsmodels.tsa.arima.model import ARIMA\n",
        "from statsmodels.tsa.holtwinters import ExponentialSmoothing\n",
        "from statsmodels.tsa.statespace.sarimax import SARIMAX\n",
        "from statsmodels.tsa.stattools import adfuller\n",
        "from tbats import TBATS\n",
        "from scipy.stats import boxcox\n",
        "from scipy.special import inv_boxcox\n",
        "from pmdarima import auto_arima\n",
        "import warnings\n",
        "\n",
        "warnings.filterwarnings(\"ignore\")\n"
      ],
      "metadata": {
        "id": "G4WIdB_CARkv"
      },
      "execution_count": 177,
      "outputs": []
    },
    {
      "cell_type": "markdown",
      "source": [
        "Load and Data Exploration"
      ],
      "metadata": {
        "id": "Gp0CCT6QAdut"
      }
    },
    {
      "cell_type": "code",
      "source": [
        "# Load dataset\n",
        "df = pd.read_csv(\"PT_Train.csv\")\n",
        "\n",
        "# Rename columns for better readability\n",
        "df.rename(columns={\"Timestamp (GMT)\": \"Timestamp\", \"Lifetouch Heart Rate\": \"Heart_Rate\"}, inplace=True)\n",
        "\n",
        "# Convert Timestamp column to datetime format\n",
        "df[\"Timestamp\"] = pd.to_datetime(df[\"Timestamp\"])\n",
        "df.set_index(\"Timestamp\", inplace=True)\n",
        "\n",
        "# Check for missing values\n",
        "print(\"\\nMissing values:\\n\", df.isnull().sum())\n",
        "\n",
        "# Check for data types\n",
        "print(\"\\n Data types:\", df.info())\n",
        "\n",
        "print(\"\\n Data shape:\", df.shape)\n",
        "\n",
        "print(\"\\n Data description:\", df.describe())\n",
        "\n",
        "# Display first few rows\n",
        "df.head()\n"
      ],
      "metadata": {
        "colab": {
          "base_uri": "https://localhost:8080/",
          "height": 916
        },
        "id": "zpSHDbzgAc6j",
        "outputId": "658822d9-d581-4e9f-9f09-df3243ee396a"
      },
      "execution_count": 178,
      "outputs": [
        {
          "output_type": "stream",
          "name": "stdout",
          "text": [
            "\n",
            "Missing values:\n",
            " Heart_Rate                     0\n",
            "Lifetouch Respiration Rate     0\n",
            "Oximeter SpO2                 35\n",
            "Oximeter Pulse                35\n",
            "dtype: int64\n",
            "<class 'pandas.core.frame.DataFrame'>\n",
            "DatetimeIndex: 226 entries, 2015-08-17 15:09:00 to 2015-08-17 18:54:00\n",
            "Data columns (total 4 columns):\n",
            " #   Column                      Non-Null Count  Dtype  \n",
            "---  ------                      --------------  -----  \n",
            " 0   Heart_Rate                  226 non-null    int64  \n",
            " 1   Lifetouch Respiration Rate  226 non-null    int64  \n",
            " 2   Oximeter SpO2               191 non-null    float64\n",
            " 3   Oximeter Pulse              191 non-null    float64\n",
            "dtypes: float64(2), int64(2)\n",
            "memory usage: 8.8 KB\n",
            "\n",
            " Data types: None\n",
            "\n",
            " Data shape: (226, 4)\n",
            "\n",
            " Data description:          Heart_Rate  Lifetouch Respiration Rate  Oximeter SpO2  Oximeter Pulse\n",
            "count    226.000000                  226.000000     191.000000      191.000000\n",
            "mean    2315.615044                 2219.216814      83.450262      126.335079\n",
            "std    11351.588825                11370.093548      29.802974       46.348142\n",
            "min      106.000000                   34.000000      -1.000000       -1.000000\n",
            "25%      136.000000                   38.000000      92.000000      134.000000\n",
            "50%      145.000000                   46.000000      93.000000      139.000000\n",
            "75%      156.000000                   53.000000      95.000000      149.000000\n",
            "max    61442.000000                61442.000000      98.000000      166.000000\n"
          ]
        },
        {
          "output_type": "execute_result",
          "data": {
            "text/plain": [
              "                     Heart_Rate  Lifetouch Respiration Rate  Oximeter SpO2  \\\n",
              "Timestamp                                                                    \n",
              "2015-08-17 15:09:00         139                          41            NaN   \n",
              "2015-08-17 15:10:00         144                          40           92.0   \n",
              "2015-08-17 15:11:00         140                          42           89.0   \n",
              "2015-08-17 15:12:00         138                          45           93.0   \n",
              "2015-08-17 15:13:00         133                          42           94.0   \n",
              "\n",
              "                     Oximeter Pulse  \n",
              "Timestamp                            \n",
              "2015-08-17 15:09:00             NaN  \n",
              "2015-08-17 15:10:00           140.0  \n",
              "2015-08-17 15:11:00           144.0  \n",
              "2015-08-17 15:12:00           141.0  \n",
              "2015-08-17 15:13:00           134.0  "
            ],
            "text/html": [
              "\n",
              "  <div id=\"df-413d07bd-392e-4ed9-8be8-df0b69dcc71f\" class=\"colab-df-container\">\n",
              "    <div>\n",
              "<style scoped>\n",
              "    .dataframe tbody tr th:only-of-type {\n",
              "        vertical-align: middle;\n",
              "    }\n",
              "\n",
              "    .dataframe tbody tr th {\n",
              "        vertical-align: top;\n",
              "    }\n",
              "\n",
              "    .dataframe thead th {\n",
              "        text-align: right;\n",
              "    }\n",
              "</style>\n",
              "<table border=\"1\" class=\"dataframe\">\n",
              "  <thead>\n",
              "    <tr style=\"text-align: right;\">\n",
              "      <th></th>\n",
              "      <th>Heart_Rate</th>\n",
              "      <th>Lifetouch Respiration Rate</th>\n",
              "      <th>Oximeter SpO2</th>\n",
              "      <th>Oximeter Pulse</th>\n",
              "    </tr>\n",
              "    <tr>\n",
              "      <th>Timestamp</th>\n",
              "      <th></th>\n",
              "      <th></th>\n",
              "      <th></th>\n",
              "      <th></th>\n",
              "    </tr>\n",
              "  </thead>\n",
              "  <tbody>\n",
              "    <tr>\n",
              "      <th>2015-08-17 15:09:00</th>\n",
              "      <td>139</td>\n",
              "      <td>41</td>\n",
              "      <td>NaN</td>\n",
              "      <td>NaN</td>\n",
              "    </tr>\n",
              "    <tr>\n",
              "      <th>2015-08-17 15:10:00</th>\n",
              "      <td>144</td>\n",
              "      <td>40</td>\n",
              "      <td>92.0</td>\n",
              "      <td>140.0</td>\n",
              "    </tr>\n",
              "    <tr>\n",
              "      <th>2015-08-17 15:11:00</th>\n",
              "      <td>140</td>\n",
              "      <td>42</td>\n",
              "      <td>89.0</td>\n",
              "      <td>144.0</td>\n",
              "    </tr>\n",
              "    <tr>\n",
              "      <th>2015-08-17 15:12:00</th>\n",
              "      <td>138</td>\n",
              "      <td>45</td>\n",
              "      <td>93.0</td>\n",
              "      <td>141.0</td>\n",
              "    </tr>\n",
              "    <tr>\n",
              "      <th>2015-08-17 15:13:00</th>\n",
              "      <td>133</td>\n",
              "      <td>42</td>\n",
              "      <td>94.0</td>\n",
              "      <td>134.0</td>\n",
              "    </tr>\n",
              "  </tbody>\n",
              "</table>\n",
              "</div>\n",
              "    <div class=\"colab-df-buttons\">\n",
              "\n",
              "  <div class=\"colab-df-container\">\n",
              "    <button class=\"colab-df-convert\" onclick=\"convertToInteractive('df-413d07bd-392e-4ed9-8be8-df0b69dcc71f')\"\n",
              "            title=\"Convert this dataframe to an interactive table.\"\n",
              "            style=\"display:none;\">\n",
              "\n",
              "  <svg xmlns=\"http://www.w3.org/2000/svg\" height=\"24px\" viewBox=\"0 -960 960 960\">\n",
              "    <path d=\"M120-120v-720h720v720H120Zm60-500h600v-160H180v160Zm220 220h160v-160H400v160Zm0 220h160v-160H400v160ZM180-400h160v-160H180v160Zm440 0h160v-160H620v160ZM180-180h160v-160H180v160Zm440 0h160v-160H620v160Z\"/>\n",
              "  </svg>\n",
              "    </button>\n",
              "\n",
              "  <style>\n",
              "    .colab-df-container {\n",
              "      display:flex;\n",
              "      gap: 12px;\n",
              "    }\n",
              "\n",
              "    .colab-df-convert {\n",
              "      background-color: #E8F0FE;\n",
              "      border: none;\n",
              "      border-radius: 50%;\n",
              "      cursor: pointer;\n",
              "      display: none;\n",
              "      fill: #1967D2;\n",
              "      height: 32px;\n",
              "      padding: 0 0 0 0;\n",
              "      width: 32px;\n",
              "    }\n",
              "\n",
              "    .colab-df-convert:hover {\n",
              "      background-color: #E2EBFA;\n",
              "      box-shadow: 0px 1px 2px rgba(60, 64, 67, 0.3), 0px 1px 3px 1px rgba(60, 64, 67, 0.15);\n",
              "      fill: #174EA6;\n",
              "    }\n",
              "\n",
              "    .colab-df-buttons div {\n",
              "      margin-bottom: 4px;\n",
              "    }\n",
              "\n",
              "    [theme=dark] .colab-df-convert {\n",
              "      background-color: #3B4455;\n",
              "      fill: #D2E3FC;\n",
              "    }\n",
              "\n",
              "    [theme=dark] .colab-df-convert:hover {\n",
              "      background-color: #434B5C;\n",
              "      box-shadow: 0px 1px 3px 1px rgba(0, 0, 0, 0.15);\n",
              "      filter: drop-shadow(0px 1px 2px rgba(0, 0, 0, 0.3));\n",
              "      fill: #FFFFFF;\n",
              "    }\n",
              "  </style>\n",
              "\n",
              "    <script>\n",
              "      const buttonEl =\n",
              "        document.querySelector('#df-413d07bd-392e-4ed9-8be8-df0b69dcc71f button.colab-df-convert');\n",
              "      buttonEl.style.display =\n",
              "        google.colab.kernel.accessAllowed ? 'block' : 'none';\n",
              "\n",
              "      async function convertToInteractive(key) {\n",
              "        const element = document.querySelector('#df-413d07bd-392e-4ed9-8be8-df0b69dcc71f');\n",
              "        const dataTable =\n",
              "          await google.colab.kernel.invokeFunction('convertToInteractive',\n",
              "                                                    [key], {});\n",
              "        if (!dataTable) return;\n",
              "\n",
              "        const docLinkHtml = 'Like what you see? Visit the ' +\n",
              "          '<a target=\"_blank\" href=https://colab.research.google.com/notebooks/data_table.ipynb>data table notebook</a>'\n",
              "          + ' to learn more about interactive tables.';\n",
              "        element.innerHTML = '';\n",
              "        dataTable['output_type'] = 'display_data';\n",
              "        await google.colab.output.renderOutput(dataTable, element);\n",
              "        const docLink = document.createElement('div');\n",
              "        docLink.innerHTML = docLinkHtml;\n",
              "        element.appendChild(docLink);\n",
              "      }\n",
              "    </script>\n",
              "  </div>\n",
              "\n",
              "\n",
              "<div id=\"df-8431b09c-631c-4be3-9493-d1fb7a8f635d\">\n",
              "  <button class=\"colab-df-quickchart\" onclick=\"quickchart('df-8431b09c-631c-4be3-9493-d1fb7a8f635d')\"\n",
              "            title=\"Suggest charts\"\n",
              "            style=\"display:none;\">\n",
              "\n",
              "<svg xmlns=\"http://www.w3.org/2000/svg\" height=\"24px\"viewBox=\"0 0 24 24\"\n",
              "     width=\"24px\">\n",
              "    <g>\n",
              "        <path d=\"M19 3H5c-1.1 0-2 .9-2 2v14c0 1.1.9 2 2 2h14c1.1 0 2-.9 2-2V5c0-1.1-.9-2-2-2zM9 17H7v-7h2v7zm4 0h-2V7h2v10zm4 0h-2v-4h2v4z\"/>\n",
              "    </g>\n",
              "</svg>\n",
              "  </button>\n",
              "\n",
              "<style>\n",
              "  .colab-df-quickchart {\n",
              "      --bg-color: #E8F0FE;\n",
              "      --fill-color: #1967D2;\n",
              "      --hover-bg-color: #E2EBFA;\n",
              "      --hover-fill-color: #174EA6;\n",
              "      --disabled-fill-color: #AAA;\n",
              "      --disabled-bg-color: #DDD;\n",
              "  }\n",
              "\n",
              "  [theme=dark] .colab-df-quickchart {\n",
              "      --bg-color: #3B4455;\n",
              "      --fill-color: #D2E3FC;\n",
              "      --hover-bg-color: #434B5C;\n",
              "      --hover-fill-color: #FFFFFF;\n",
              "      --disabled-bg-color: #3B4455;\n",
              "      --disabled-fill-color: #666;\n",
              "  }\n",
              "\n",
              "  .colab-df-quickchart {\n",
              "    background-color: var(--bg-color);\n",
              "    border: none;\n",
              "    border-radius: 50%;\n",
              "    cursor: pointer;\n",
              "    display: none;\n",
              "    fill: var(--fill-color);\n",
              "    height: 32px;\n",
              "    padding: 0;\n",
              "    width: 32px;\n",
              "  }\n",
              "\n",
              "  .colab-df-quickchart:hover {\n",
              "    background-color: var(--hover-bg-color);\n",
              "    box-shadow: 0 1px 2px rgba(60, 64, 67, 0.3), 0 1px 3px 1px rgba(60, 64, 67, 0.15);\n",
              "    fill: var(--button-hover-fill-color);\n",
              "  }\n",
              "\n",
              "  .colab-df-quickchart-complete:disabled,\n",
              "  .colab-df-quickchart-complete:disabled:hover {\n",
              "    background-color: var(--disabled-bg-color);\n",
              "    fill: var(--disabled-fill-color);\n",
              "    box-shadow: none;\n",
              "  }\n",
              "\n",
              "  .colab-df-spinner {\n",
              "    border: 2px solid var(--fill-color);\n",
              "    border-color: transparent;\n",
              "    border-bottom-color: var(--fill-color);\n",
              "    animation:\n",
              "      spin 1s steps(1) infinite;\n",
              "  }\n",
              "\n",
              "  @keyframes spin {\n",
              "    0% {\n",
              "      border-color: transparent;\n",
              "      border-bottom-color: var(--fill-color);\n",
              "      border-left-color: var(--fill-color);\n",
              "    }\n",
              "    20% {\n",
              "      border-color: transparent;\n",
              "      border-left-color: var(--fill-color);\n",
              "      border-top-color: var(--fill-color);\n",
              "    }\n",
              "    30% {\n",
              "      border-color: transparent;\n",
              "      border-left-color: var(--fill-color);\n",
              "      border-top-color: var(--fill-color);\n",
              "      border-right-color: var(--fill-color);\n",
              "    }\n",
              "    40% {\n",
              "      border-color: transparent;\n",
              "      border-right-color: var(--fill-color);\n",
              "      border-top-color: var(--fill-color);\n",
              "    }\n",
              "    60% {\n",
              "      border-color: transparent;\n",
              "      border-right-color: var(--fill-color);\n",
              "    }\n",
              "    80% {\n",
              "      border-color: transparent;\n",
              "      border-right-color: var(--fill-color);\n",
              "      border-bottom-color: var(--fill-color);\n",
              "    }\n",
              "    90% {\n",
              "      border-color: transparent;\n",
              "      border-bottom-color: var(--fill-color);\n",
              "    }\n",
              "  }\n",
              "</style>\n",
              "\n",
              "  <script>\n",
              "    async function quickchart(key) {\n",
              "      const quickchartButtonEl =\n",
              "        document.querySelector('#' + key + ' button');\n",
              "      quickchartButtonEl.disabled = true;  // To prevent multiple clicks.\n",
              "      quickchartButtonEl.classList.add('colab-df-spinner');\n",
              "      try {\n",
              "        const charts = await google.colab.kernel.invokeFunction(\n",
              "            'suggestCharts', [key], {});\n",
              "      } catch (error) {\n",
              "        console.error('Error during call to suggestCharts:', error);\n",
              "      }\n",
              "      quickchartButtonEl.classList.remove('colab-df-spinner');\n",
              "      quickchartButtonEl.classList.add('colab-df-quickchart-complete');\n",
              "    }\n",
              "    (() => {\n",
              "      let quickchartButtonEl =\n",
              "        document.querySelector('#df-8431b09c-631c-4be3-9493-d1fb7a8f635d button');\n",
              "      quickchartButtonEl.style.display =\n",
              "        google.colab.kernel.accessAllowed ? 'block' : 'none';\n",
              "    })();\n",
              "  </script>\n",
              "</div>\n",
              "\n",
              "    </div>\n",
              "  </div>\n"
            ],
            "application/vnd.google.colaboratory.intrinsic+json": {
              "type": "dataframe",
              "variable_name": "df",
              "summary": "{\n  \"name\": \"df\",\n  \"rows\": 226,\n  \"fields\": [\n    {\n      \"column\": \"Timestamp\",\n      \"properties\": {\n        \"dtype\": \"date\",\n        \"min\": \"2015-08-17 15:09:00\",\n        \"max\": \"2015-08-17 18:54:00\",\n        \"num_unique_values\": 226,\n        \"samples\": [\n          \"2015-08-17 15:18:00\",\n          \"2015-08-17 18:13:00\",\n          \"2015-08-17 17:09:00\"\n        ],\n        \"semantic_type\": \"\",\n        \"description\": \"\"\n      }\n    },\n    {\n      \"column\": \"Heart_Rate\",\n      \"properties\": {\n        \"dtype\": \"number\",\n        \"std\": 11351,\n        \"min\": 106,\n        \"max\": 61442,\n        \"num_unique_values\": 43,\n        \"samples\": [\n          157,\n          131,\n          151\n        ],\n        \"semantic_type\": \"\",\n        \"description\": \"\"\n      }\n    },\n    {\n      \"column\": \"Lifetouch Respiration Rate\",\n      \"properties\": {\n        \"dtype\": \"number\",\n        \"std\": 11370,\n        \"min\": 34,\n        \"max\": 61442,\n        \"num_unique_values\": 32,\n        \"samples\": [\n          64,\n          48,\n          60\n        ],\n        \"semantic_type\": \"\",\n        \"description\": \"\"\n      }\n    },\n    {\n      \"column\": \"Oximeter SpO2\",\n      \"properties\": {\n        \"dtype\": \"number\",\n        \"std\": 29.802973843747694,\n        \"min\": -1.0,\n        \"max\": 98.0,\n        \"num_unique_values\": 10,\n        \"samples\": [\n          97.0,\n          89.0,\n          96.0\n        ],\n        \"semantic_type\": \"\",\n        \"description\": \"\"\n      }\n    },\n    {\n      \"column\": \"Oximeter Pulse\",\n      \"properties\": {\n        \"dtype\": \"number\",\n        \"std\": 46.34814224255279,\n        \"min\": -1.0,\n        \"max\": 166.0,\n        \"num_unique_values\": 35,\n        \"samples\": [\n          151.0,\n          142.0,\n          158.0\n        ],\n        \"semantic_type\": \"\",\n        \"description\": \"\"\n      }\n    }\n  ]\n}"
            }
          },
          "metadata": {},
          "execution_count": 178
        }
      ]
    },
    {
      "cell_type": "markdown",
      "source": [
        "Visualize Raw Data (Before Cleaning)"
      ],
      "metadata": {
        "id": "-WuY0ntQA_VJ"
      }
    },
    {
      "cell_type": "code",
      "source": [
        "plt.figure(figsize=(12, 5))\n",
        "plt.plot(df.index, df[\"Heart_Rate\"], label=\"Before Outlier Removal\", color=\"red\")\n",
        "plt.title(\"Heart Rate Data Before Outlier Removal\")\n",
        "plt.legend()\n",
        "plt.grid(True)\n",
        "plt.show()"
      ],
      "metadata": {
        "colab": {
          "base_uri": "https://localhost:8080/",
          "height": 362
        },
        "id": "qJtlIM6TA9zF",
        "outputId": "472fe155-c763-4ccf-80f4-189382eed481"
      },
      "execution_count": 6,
      "outputs": [
        {
          "output_type": "display_data",
          "data": {
            "text/plain": [
              "<Figure size 1200x500 with 1 Axes>"
            ],
            "image/png": "[encoded data removed]"
          },
          "metadata": {}
        }
      ]
    },
    {
      "cell_type": "markdown",
      "source": [
        "Remove Outliers Using Z-score"
      ],
      "metadata": {
        "id": "LnXGoA6VA-IP"
      }
    },
    {
      "cell_type": "code",
      "source": [
        "# Compute Z-score\n",
        "z_scores = (df[\"Heart_Rate\"] - df[\"Heart_Rate\"].mean()) / df[\"Heart_Rate\"].std()\n",
        "\n",
        "# Replace values with NaN if they exceed Z-score threshold of 3\n",
        "df[\"Heart_Rate\"] = df[\"Heart_Rate\"].mask(np.abs(z_scores) > 3, np.nan)\n",
        "\n",
        "# Fill missing values\n",
        "df.fillna(method=\"ffill\", inplace=True)\n",
        "df.fillna(method=\"bfill\", inplace=True)\n",
        "\n",
        "# Plot cleaned data\n",
        "plt.figure(figsize=(12, 5))\n",
        "plt.plot(df.index, df[\"Heart_Rate\"], label=\"After Outlier Removal\", color=\"green\")\n",
        "plt.title(\"Heart Rate Data After Outlier Removal\")\n",
        "plt.legend()\n",
        "plt.grid(True)\n",
        "plt.show()\n",
        "\n",
        "df['Heart_Rate'].describe()"
      ],
      "metadata": {
        "colab": {
          "base_uri": "https://localhost:8080/",
          "height": 686
        },
        "id": "2ohBqBm8BnAV",
        "outputId": "2c7e49de-f1c3-446e-dffc-c7da5bc2bca4"
      },
      "execution_count": 179,
      "outputs": [
        {
          "output_type": "display_data",
          "data": {
            "text/plain": [
              "<Figure size 1200x500 with 1 Axes>"
            ],
            "image/png": "[encoded data removed]"
          },
          "metadata": {}
        },
        {
          "output_type": "execute_result",
          "data": {
            "text/plain": [
              "count    226.000000\n",
              "mean     145.163717\n",
              "std       11.801496\n",
              "min      106.000000\n",
              "25%      136.000000\n",
              "50%      142.000000\n",
              "75%      155.000000\n",
              "max      172.000000\n",
              "Name: Heart_Rate, dtype: float64"
            ],
            "text/html": [
              "<div>\n",
              "<style scoped>\n",
              "    .dataframe tbody tr th:only-of-type {\n",
              "        vertical-align: middle;\n",
              "    }\n",
              "\n",
              "    .dataframe tbody tr th {\n",
              "        vertical-align: top;\n",
              "    }\n",
              "\n",
              "    .dataframe thead th {\n",
              "        text-align: right;\n",
              "    }\n",
              "</style>\n",
              "<table border=\"1\" class=\"dataframe\">\n",
              "  <thead>\n",
              "    <tr style=\"text-align: right;\">\n",
              "      <th></th>\n",
              "      <th>Heart_Rate</th>\n",
              "    </tr>\n",
              "  </thead>\n",
              "  <tbody>\n",
              "    <tr>\n",
              "      <th>count</th>\n",
              "      <td>226.000000</td>\n",
              "    </tr>\n",
              "    <tr>\n",
              "      <th>mean</th>\n",
              "      <td>145.163717</td>\n",
              "    </tr>\n",
              "    <tr>\n",
              "      <th>std</th>\n",
              "      <td>11.801496</td>\n",
              "    </tr>\n",
              "    <tr>\n",
              "      <th>min</th>\n",
              "      <td>106.000000</td>\n",
              "    </tr>\n",
              "    <tr>\n",
              "      <th>25%</th>\n",
              "      <td>136.000000</td>\n",
              "    </tr>\n",
              "    <tr>\n",
              "      <th>50%</th>\n",
              "      <td>142.000000</td>\n",
              "    </tr>\n",
              "    <tr>\n",
              "      <th>75%</th>\n",
              "      <td>155.000000</td>\n",
              "    </tr>\n",
              "    <tr>\n",
              "      <th>max</th>\n",
              "      <td>172.000000</td>\n",
              "    </tr>\n",
              "  </tbody>\n",
              "</table>\n",
              "</div><br><label><b>dtype:</b> float64</label>"
            ]
          },
          "metadata": {},
          "execution_count": 179
        }
      ]
    },
    {
      "cell_type": "markdown",
      "source": [
        "Check for Stationarity and Apply Box-Cox Transformation\n",
        "if the data is stationary and apply transformations"
      ],
      "metadata": {
        "id": "P76joyxKCiuf"
      }
    },
    {
      "cell_type": "code",
      "source": [
        "# Run ADF test before transformation\n",
        "result = adfuller(df[\"Heart_Rate\"])\n",
        "print(\"ADF p-value before transformation:\", result[1])\n",
        "\n",
        "# Apply Box-Cox Transformation if p-value > 0.05 (non-stationary)\n",
        "if result[1] > 0.05:\n",
        "    df[\"Heart_Rate\"], lambda_boxcox = boxcox(df[\"Heart_Rate\"])\n",
        "    print(\"Applied Box-Cox Transformation\")\n",
        "else:\n",
        "    lambda_boxcox = None\n",
        "\n",
        "# Run ADF test again after Box-Cox\n",
        "result = adfuller(df[\"Heart_Rate\"])\n",
        "print(\"ADF p-value after Box-Cox:\", result[1])\n",
        "\n",
        "# Apply Differencing if still non-stationary\n",
        "if result[1] > 0.05:\n",
        "    df[\"Heart_Rate\"] = df[\"Heart_Rate\"].diff().dropna()\n",
        "    print(\"Applied Differencing\")\n",
        "\n",
        "# Visualize transformed data\n",
        "plt.figure(figsize=(12, 5))\n",
        "plt.plot(df.index, df[\"Heart_Rate\"], label=\"After Stationarity Transformation\", color=\"blue\")\n",
        "plt.title(\"Heart Rate Data After Making Stationary\")\n",
        "plt.legend()\n",
        "plt.grid(True)\n",
        "plt.show()\n",
        "\n",
        "df.head()\n"
      ],
      "metadata": {
        "colab": {
          "base_uri": "https://localhost:8080/",
          "height": 705
        },
        "id": "Zp2hvQ8GCGDE",
        "outputId": "845909ba-254e-41f3-ea26-84cb63cb4d73"
      },
      "execution_count": 163,
      "outputs": [
        {
          "output_type": "stream",
          "name": "stdout",
          "text": [
            "ADF p-value before transformation: 0.002415527582011085\n",
            "ADF p-value after Box-Cox: 0.002415527582011085\n"
          ]
        },
        {
          "output_type": "display_data",
          "data": {
            "text/plain": [
              "<Figure size 1200x500 with 1 Axes>"
            ],
            "image/png": "[encoded data removed]"
          },
          "metadata": {}
        },
        {
          "output_type": "execute_result",
          "data": {
            "text/plain": [
              "                     Heart_Rate  Lifetouch Respiration Rate  Oximeter SpO2  \\\n",
              "Timestamp                                                                    \n",
              "2015-08-17 15:09:00         139                          41            NaN   \n",
              "2015-08-17 15:10:00         144                          40           92.0   \n",
              "2015-08-17 15:11:00         140                          42           89.0   \n",
              "2015-08-17 15:12:00         138                          45           93.0   \n",
              "2015-08-17 15:13:00         133                          42           94.0   \n",
              "\n",
              "                     Oximeter Pulse  \n",
              "Timestamp                            \n",
              "2015-08-17 15:09:00             NaN  \n",
              "2015-08-17 15:10:00           140.0  \n",
              "2015-08-17 15:11:00           144.0  \n",
              "2015-08-17 15:12:00           141.0  \n",
              "2015-08-17 15:13:00           134.0  "
            ],
            "text/html": [
              "\n",
              "  <div id=\"df-8df39b72-5e46-4f5c-929c-f23ec01f30dc\" class=\"colab-df-container\">\n",
              "    <div>\n",
              "<style scoped>\n",
              "    .dataframe tbody tr th:only-of-type {\n",
              "        vertical-align: middle;\n",
              "    }\n",
              "\n",
              "    .dataframe tbody tr th {\n",
              "        vertical-align: top;\n",
              "    }\n",
              "\n",
              "    .dataframe thead th {\n",
              "        text-align: right;\n",
              "    }\n",
              "</style>\n",
              "<table border=\"1\" class=\"dataframe\">\n",
              "  <thead>\n",
              "    <tr style=\"text-align: right;\">\n",
              "      <th></th>\n",
              "      <th>Heart_Rate</th>\n",
              "      <th>Lifetouch Respiration Rate</th>\n",
              "      <th>Oximeter SpO2</th>\n",
              "      <th>Oximeter Pulse</th>\n",
              "    </tr>\n",
              "    <tr>\n",
              "      <th>Timestamp</th>\n",
              "      <th></th>\n",
              "      <th></th>\n",
              "      <th></th>\n",
              "      <th></th>\n",
              "    </tr>\n",
              "  </thead>\n",
              "  <tbody>\n",
              "    <tr>\n",
              "      <th>2015-08-17 15:09:00</th>\n",
              "      <td>139</td>\n",
              "      <td>41</td>\n",
              "      <td>NaN</td>\n",
              "      <td>NaN</td>\n",
              "    </tr>\n",
              "    <tr>\n",
              "      <th>2015-08-17 15:10:00</th>\n",
              "      <td>144</td>\n",
              "      <td>40</td>\n",
              "      <td>92.0</td>\n",
              "      <td>140.0</td>\n",
              "    </tr>\n",
              "    <tr>\n",
              "      <th>2015-08-17 15:11:00</th>\n",
              "      <td>140</td>\n",
              "      <td>42</td>\n",
              "      <td>89.0</td>\n",
              "      <td>144.0</td>\n",
              "    </tr>\n",
              "    <tr>\n",
              "      <th>2015-08-17 15:12:00</th>\n",
              "      <td>138</td>\n",
              "      <td>45</td>\n",
              "      <td>93.0</td>\n",
              "      <td>141.0</td>\n",
              "    </tr>\n",
              "    <tr>\n",
              "      <th>2015-08-17 15:13:00</th>\n",
              "      <td>133</td>\n",
              "      <td>42</td>\n",
              "      <td>94.0</td>\n",
              "      <td>134.0</td>\n",
              "    </tr>\n",
              "  </tbody>\n",
              "</table>\n",
              "</div>\n",
              "    <div class=\"colab-df-buttons\">\n",
              "\n",
              "  <div class=\"colab-df-container\">\n",
              "    <button class=\"colab-df-convert\" onclick=\"convertToInteractive('df-8df39b72-5e46-4f5c-929c-f23ec01f30dc')\"\n",
              "            title=\"Convert this dataframe to an interactive table.\"\n",
              "            style=\"display:none;\">\n",
              "\n",
              "  <svg xmlns=\"http://www.w3.org/2000/svg\" height=\"24px\" viewBox=\"0 -960 960 960\">\n",
              "    <path d=\"M120-120v-720h720v720H120Zm60-500h600v-160H180v160Zm220 220h160v-160H400v160Zm0 220h160v-160H400v160ZM180-400h160v-160H180v160Zm440 0h160v-160H620v160ZM180-180h160v-160H180v160Zm440 0h160v-160H620v160Z\"/>\n",
              "  </svg>\n",
              "    </button>\n",
              "\n",
              "  <style>\n",
              "    .colab-df-container {\n",
              "      display:flex;\n",
              "      gap: 12px;\n",
              "    }\n",
              "\n",
              "    .colab-df-convert {\n",
              "      background-color: #E8F0FE;\n",
              "      border: none;\n",
              "      border-radius: 50%;\n",
              "      cursor: pointer;\n",
              "      display: none;\n",
              "      fill: #1967D2;\n",
              "      height: 32px;\n",
              "      padding: 0 0 0 0;\n",
              "      width: 32px;\n",
              "    }\n",
              "\n",
              "    .colab-df-convert:hover {\n",
              "      background-color: #E2EBFA;\n",
              "      box-shadow: 0px 1px 2px rgba(60, 64, 67, 0.3), 0px 1px 3px 1px rgba(60, 64, 67, 0.15);\n",
              "      fill: #174EA6;\n",
              "    }\n",
              "\n",
              "    .colab-df-buttons div {\n",
              "      margin-bottom: 4px;\n",
              "    }\n",
              "\n",
              "    [theme=dark] .colab-df-convert {\n",
              "      background-color: #3B4455;\n",
              "      fill: #D2E3FC;\n",
              "    }\n",
              "\n",
              "    [theme=dark] .colab-df-convert:hover {\n",
              "      background-color: #434B5C;\n",
              "      box-shadow: 0px 1px 3px 1px rgba(0, 0, 0, 0.15);\n",
              "      filter: drop-shadow(0px 1px 2px rgba(0, 0, 0, 0.3));\n",
              "      fill: #FFFFFF;\n",
              "    }\n",
              "  </style>\n",
              "\n",
              "    <script>\n",
              "      const buttonEl =\n",
              "        document.querySelector('#df-8df39b72-5e46-4f5c-929c-f23ec01f30dc button.colab-df-convert');\n",
              "      buttonEl.style.display =\n",
              "        google.colab.kernel.accessAllowed ? 'block' : 'none';\n",
              "\n",
              "      async function convertToInteractive(key) {\n",
              "        const element = document.querySelector('#df-8df39b72-5e46-4f5c-929c-f23ec01f30dc');\n",
              "        const dataTable =\n",
              "          await google.colab.kernel.invokeFunction('convertToInteractive',\n",
              "                                                    [key], {});\n",
              "        if (!dataTable) return;\n",
              "\n",
              "        const docLinkHtml = 'Like what you see? Visit the ' +\n",
              "          '<a target=\"_blank\" href=https://colab.research.google.com/notebooks/data_table.ipynb>data table notebook</a>'\n",
              "          + ' to learn more about interactive tables.';\n",
              "        element.innerHTML = '';\n",
              "        dataTable['output_type'] = 'display_data';\n",
              "        await google.colab.output.renderOutput(dataTable, element);\n",
              "        const docLink = document.createElement('div');\n",
              "        docLink.innerHTML = docLinkHtml;\n",
              "        element.appendChild(docLink);\n",
              "      }\n",
              "    </script>\n",
              "  </div>\n",
              "\n",
              "\n",
              "<div id=\"df-e1cbeda7-c939-435a-a9a9-b2b713bb6687\">\n",
              "  <button class=\"colab-df-quickchart\" onclick=\"quickchart('df-e1cbeda7-c939-435a-a9a9-b2b713bb6687')\"\n",
              "            title=\"Suggest charts\"\n",
              "            style=\"display:none;\">\n",
              "\n",
              "<svg xmlns=\"http://www.w3.org/2000/svg\" height=\"24px\"viewBox=\"0 0 24 24\"\n",
              "     width=\"24px\">\n",
              "    <g>\n",
              "        <path d=\"M19 3H5c-1.1 0-2 .9-2 2v14c0 1.1.9 2 2 2h14c1.1 0 2-.9 2-2V5c0-1.1-.9-2-2-2zM9 17H7v-7h2v7zm4 0h-2V7h2v10zm4 0h-2v-4h2v4z\"/>\n",
              "    </g>\n",
              "</svg>\n",
              "  </button>\n",
              "\n",
              "<style>\n",
              "  .colab-df-quickchart {\n",
              "      --bg-color: #E8F0FE;\n",
              "      --fill-color: #1967D2;\n",
              "      --hover-bg-color: #E2EBFA;\n",
              "      --hover-fill-color: #174EA6;\n",
              "      --disabled-fill-color: #AAA;\n",
              "      --disabled-bg-color: #DDD;\n",
              "  }\n",
              "\n",
              "  [theme=dark] .colab-df-quickchart {\n",
              "      --bg-color: #3B4455;\n",
              "      --fill-color: #D2E3FC;\n",
              "      --hover-bg-color: #434B5C;\n",
              "      --hover-fill-color: #FFFFFF;\n",
              "      --disabled-bg-color: #3B4455;\n",
              "      --disabled-fill-color: #666;\n",
              "  }\n",
              "\n",
              "  .colab-df-quickchart {\n",
              "    background-color: var(--bg-color);\n",
              "    border: none;\n",
              "    border-radius: 50%;\n",
              "    cursor: pointer;\n",
              "    display: none;\n",
              "    fill: var(--fill-color);\n",
              "    height: 32px;\n",
              "    padding: 0;\n",
              "    width: 32px;\n",
              "  }\n",
              "\n",
              "  .colab-df-quickchart:hover {\n",
              "    background-color: var(--hover-bg-color);\n",
              "    box-shadow: 0 1px 2px rgba(60, 64, 67, 0.3), 0 1px 3px 1px rgba(60, 64, 67, 0.15);\n",
              "    fill: var(--button-hover-fill-color);\n",
              "  }\n",
              "\n",
              "  .colab-df-quickchart-complete:disabled,\n",
              "  .colab-df-quickchart-complete:disabled:hover {\n",
              "    background-color: var(--disabled-bg-color);\n",
              "    fill: var(--disabled-fill-color);\n",
              "    box-shadow: none;\n",
              "  }\n",
              "\n",
              "  .colab-df-spinner {\n",
              "    border: 2px solid var(--fill-color);\n",
              "    border-color: transparent;\n",
              "    border-bottom-color: var(--fill-color);\n",
              "    animation:\n",
              "      spin 1s steps(1) infinite;\n",
              "  }\n",
              "\n",
              "  @keyframes spin {\n",
              "    0% {\n",
              "      border-color: transparent;\n",
              "      border-bottom-color: var(--fill-color);\n",
              "      border-left-color: var(--fill-color);\n",
              "    }\n",
              "    20% {\n",
              "      border-color: transparent;\n",
              "      border-left-color: var(--fill-color);\n",
              "      border-top-color: var(--fill-color);\n",
              "    }\n",
              "    30% {\n",
              "      border-color: transparent;\n",
              "      border-left-color: var(--fill-color);\n",
              "      border-top-color: var(--fill-color);\n",
              "      border-right-color: var(--fill-color);\n",
              "    }\n",
              "    40% {\n",
              "      border-color: transparent;\n",
              "      border-right-color: var(--fill-color);\n",
              "      border-top-color: var(--fill-color);\n",
              "    }\n",
              "    60% {\n",
              "      border-color: transparent;\n",
              "      border-right-color: var(--fill-color);\n",
              "    }\n",
              "    80% {\n",
              "      border-color: transparent;\n",
              "      border-right-color: var(--fill-color);\n",
              "      border-bottom-color: var(--fill-color);\n",
              "    }\n",
              "    90% {\n",
              "      border-color: transparent;\n",
              "      border-bottom-color: var(--fill-color);\n",
              "    }\n",
              "  }\n",
              "</style>\n",
              "\n",
              "  <script>\n",
              "    async function quickchart(key) {\n",
              "      const quickchartButtonEl =\n",
              "        document.querySelector('#' + key + ' button');\n",
              "      quickchartButtonEl.disabled = true;  // To prevent multiple clicks.\n",
              "      quickchartButtonEl.classList.add('colab-df-spinner');\n",
              "      try {\n",
              "        const charts = await google.colab.kernel.invokeFunction(\n",
              "            'suggestCharts', [key], {});\n",
              "      } catch (error) {\n",
              "        console.error('Error during call to suggestCharts:', error);\n",
              "      }\n",
              "      quickchartButtonEl.classList.remove('colab-df-spinner');\n",
              "      quickchartButtonEl.classList.add('colab-df-quickchart-complete');\n",
              "    }\n",
              "    (() => {\n",
              "      let quickchartButtonEl =\n",
              "        document.querySelector('#df-e1cbeda7-c939-435a-a9a9-b2b713bb6687 button');\n",
              "      quickchartButtonEl.style.display =\n",
              "        google.colab.kernel.accessAllowed ? 'block' : 'none';\n",
              "    })();\n",
              "  </script>\n",
              "</div>\n",
              "\n",
              "    </div>\n",
              "  </div>\n"
            ],
            "application/vnd.google.colaboratory.intrinsic+json": {
              "type": "dataframe",
              "variable_name": "df",
              "summary": "{\n  \"name\": \"df\",\n  \"rows\": 226,\n  \"fields\": [\n    {\n      \"column\": \"Timestamp\",\n      \"properties\": {\n        \"dtype\": \"date\",\n        \"min\": \"2015-08-17 15:09:00\",\n        \"max\": \"2015-08-17 18:54:00\",\n        \"num_unique_values\": 226,\n        \"samples\": [\n          \"2015-08-17 15:18:00\",\n          \"2015-08-17 18:13:00\",\n          \"2015-08-17 17:09:00\"\n        ],\n        \"semantic_type\": \"\",\n        \"description\": \"\"\n      }\n    },\n    {\n      \"column\": \"Heart_Rate\",\n      \"properties\": {\n        \"dtype\": \"number\",\n        \"std\": 11351,\n        \"min\": 106,\n        \"max\": 61442,\n        \"num_unique_values\": 43,\n        \"samples\": [\n          157,\n          131,\n          151\n        ],\n        \"semantic_type\": \"\",\n        \"description\": \"\"\n      }\n    },\n    {\n      \"column\": \"Lifetouch Respiration Rate\",\n      \"properties\": {\n        \"dtype\": \"number\",\n        \"std\": 11370,\n        \"min\": 34,\n        \"max\": 61442,\n        \"num_unique_values\": 32,\n        \"samples\": [\n          64,\n          48,\n          60\n        ],\n        \"semantic_type\": \"\",\n        \"description\": \"\"\n      }\n    },\n    {\n      \"column\": \"Oximeter SpO2\",\n      \"properties\": {\n        \"dtype\": \"number\",\n        \"std\": 29.802973843747694,\n        \"min\": -1.0,\n        \"max\": 98.0,\n        \"num_unique_values\": 10,\n        \"samples\": [\n          97.0,\n          89.0,\n          96.0\n        ],\n        \"semantic_type\": \"\",\n        \"description\": \"\"\n      }\n    },\n    {\n      \"column\": \"Oximeter Pulse\",\n      \"properties\": {\n        \"dtype\": \"number\",\n        \"std\": 46.34814224255279,\n        \"min\": -1.0,\n        \"max\": 166.0,\n        \"num_unique_values\": 35,\n        \"samples\": [\n          151.0,\n          142.0,\n          158.0\n        ],\n        \"semantic_type\": \"\",\n        \"description\": \"\"\n      }\n    }\n  ]\n}"
            }
          },
          "metadata": {},
          "execution_count": 163
        }
      ]
    },
    {
      "cell_type": "markdown",
      "source": [
        "Feature Engineering"
      ],
      "metadata": {
        "id": "OwmIIR3GDqaa"
      }
    },
    {
      "cell_type": "code",
      "source": [
        "# Feature Engineering\n",
        "df[\"hour\"] = df.index.hour\n",
        "df[\"day_of_week\"] = df.index.dayofweek\n",
        "df[\"rolling_mean\"] = df[\"Heart_Rate\"].rolling(window=5).mean()\n",
        "df[\"rolling_std\"] = df[\"Heart_Rate\"].rolling(window=5).std()\n",
        "\n",
        "# FINAL MISSING VALUE HANDLING\n",
        "df.fillna(method=\"ffill\", inplace=True)\n",
        "df.fillna(method=\"bfill\", inplace=True)\n",
        "df.dropna(inplace=True)\n",
        "\n",
        "# Remove Any Infinite Values\n",
        "df.replace([np.inf, -np.inf], np.nan, inplace=True)\n",
        "df.dropna(inplace=True)\n",
        "\n",
        "# Final Print Check\n",
        "print(\"\\n Final Missing Values Check:\\n\", df.isnull().sum())"
      ],
      "metadata": {
        "colab": {
          "base_uri": "https://localhost:8080/"
        },
        "id": "duQsgkybDp7r",
        "outputId": "5f4c8bea-582e-4e89-eed1-62aa196c4d53"
      },
      "execution_count": 159,
      "outputs": [
        {
          "output_type": "stream",
          "name": "stdout",
          "text": [
            "\n",
            " Final Missing Values Check:\n",
            " Heart_Rate                    0\n",
            "Lifetouch Respiration Rate    0\n",
            "Oximeter SpO2                 0\n",
            "Oximeter Pulse                0\n",
            "hour                          0\n",
            "day_of_week                   0\n",
            "rolling_mean                  0\n",
            "rolling_std                   0\n",
            "dtype: int64\n"
          ]
        }
      ]
    },
    {
      "cell_type": "markdown",
      "source": [
        "Train-Test Split\n",
        "\n",
        "Split the dataset into training and testing sets."
      ],
      "metadata": {
        "id": "ZN8aON7gECFr"
      }
    },
    {
      "cell_type": "code",
      "source": [
        "train_size = len(df) - 20\n",
        "train_df, test_df = df[:train_size], df[train_size:]\n",
        "\n",
        "# Print sizes\n",
        "print(f\"Training set size: {len(train_df)}, Testing set size: {len(test_df)}\")\n"
      ],
      "metadata": {
        "colab": {
          "base_uri": "https://localhost:8080/"
        },
        "id": "4Qx_NDgGEBav",
        "outputId": "0280d0d0-ccc9-4517-dc96-2580ec90d372"
      },
      "execution_count": 180,
      "outputs": [
        {
          "output_type": "stream",
          "name": "stdout",
          "text": [
            "Training set size: 206, Testing set size: 20\n"
          ]
        }
      ]
    },
    {
      "cell_type": "markdown",
      "source": [
        "**Train Models**"
      ],
      "metadata": {
        "id": "a9a7e9kgIYIi"
      }
    },
    {
      "cell_type": "markdown",
      "source": [
        "Moving Average Model"
      ],
      "metadata": {
        "id": "6iitc_XoIhXZ"
      }
    },
    {
      "cell_type": "code",
      "source": [
        "moving_avg_forecast = train_df[\"Heart_Rate\"].rolling(window=5).mean()\n",
        "moving_avg_forecast.head(20)"
      ],
      "metadata": {
        "id": "D-FrzESfTlj9",
        "outputId": "9dd52d56-47c7-4e8d-e6b2-beabd28eb994",
        "colab": {
          "base_uri": "https://localhost:8080/",
          "height": 743
        }
      },
      "execution_count": 181,
      "outputs": [
        {
          "output_type": "execute_result",
          "data": {
            "text/plain": [
              "Timestamp\n",
              "2015-08-17 15:09:00      NaN\n",
              "2015-08-17 15:10:00      NaN\n",
              "2015-08-17 15:11:00      NaN\n",
              "2015-08-17 15:12:00      NaN\n",
              "2015-08-17 15:13:00    138.8\n",
              "2015-08-17 15:14:00    137.4\n",
              "2015-08-17 15:15:00    135.0\n",
              "2015-08-17 15:16:00    133.6\n",
              "2015-08-17 15:17:00    133.2\n",
              "2015-08-17 15:18:00    134.0\n",
              "2015-08-17 15:19:00    134.8\n",
              "2015-08-17 15:20:00    135.8\n",
              "2015-08-17 15:21:00    137.0\n",
              "2015-08-17 15:22:00    137.4\n",
              "2015-08-17 15:23:00    138.2\n",
              "2015-08-17 15:24:00    138.8\n",
              "2015-08-17 15:25:00    139.4\n",
              "2015-08-17 15:26:00    139.6\n",
              "2015-08-17 15:27:00    139.8\n",
              "2015-08-17 15:28:00    139.0\n",
              "Name: Heart_Rate, dtype: float64"
            ],
            "text/html": [
              "<div>\n",
              "<style scoped>\n",
              "    .dataframe tbody tr th:only-of-type {\n",
              "        vertical-align: middle;\n",
              "    }\n",
              "\n",
              "    .dataframe tbody tr th {\n",
              "        vertical-align: top;\n",
              "    }\n",
              "\n",
              "    .dataframe thead th {\n",
              "        text-align: right;\n",
              "    }\n",
              "</style>\n",
              "<table border=\"1\" class=\"dataframe\">\n",
              "  <thead>\n",
              "    <tr style=\"text-align: right;\">\n",
              "      <th></th>\n",
              "      <th>Heart_Rate</th>\n",
              "    </tr>\n",
              "    <tr>\n",
              "      <th>Timestamp</th>\n",
              "      <th></th>\n",
              "    </tr>\n",
              "  </thead>\n",
              "  <tbody>\n",
              "    <tr>\n",
              "      <th>2015-08-17 15:09:00</th>\n",
              "      <td>NaN</td>\n",
              "    </tr>\n",
              "    <tr>\n",
              "      <th>2015-08-17 15:10:00</th>\n",
              "      <td>NaN</td>\n",
              "    </tr>\n",
              "    <tr>\n",
              "      <th>2015-08-17 15:11:00</th>\n",
              "      <td>NaN</td>\n",
              "    </tr>\n",
              "    <tr>\n",
              "      <th>2015-08-17 15:12:00</th>\n",
              "      <td>NaN</td>\n",
              "    </tr>\n",
              "    <tr>\n",
              "      <th>2015-08-17 15:13:00</th>\n",
              "      <td>138.8</td>\n",
              "    </tr>\n",
              "    <tr>\n",
              "      <th>2015-08-17 15:14:00</th>\n",
              "      <td>137.4</td>\n",
              "    </tr>\n",
              "    <tr>\n",
              "      <th>2015-08-17 15:15:00</th>\n",
              "      <td>135.0</td>\n",
              "    </tr>\n",
              "    <tr>\n",
              "      <th>2015-08-17 15:16:00</th>\n",
              "      <td>133.6</td>\n",
              "    </tr>\n",
              "    <tr>\n",
              "      <th>2015-08-17 15:17:00</th>\n",
              "      <td>133.2</td>\n",
              "    </tr>\n",
              "    <tr>\n",
              "      <th>2015-08-17 15:18:00</th>\n",
              "      <td>134.0</td>\n",
              "    </tr>\n",
              "    <tr>\n",
              "      <th>2015-08-17 15:19:00</th>\n",
              "      <td>134.8</td>\n",
              "    </tr>\n",
              "    <tr>\n",
              "      <th>2015-08-17 15:20:00</th>\n",
              "      <td>135.8</td>\n",
              "    </tr>\n",
              "    <tr>\n",
              "      <th>2015-08-17 15:21:00</th>\n",
              "      <td>137.0</td>\n",
              "    </tr>\n",
              "    <tr>\n",
              "      <th>2015-08-17 15:22:00</th>\n",
              "      <td>137.4</td>\n",
              "    </tr>\n",
              "    <tr>\n",
              "      <th>2015-08-17 15:23:00</th>\n",
              "      <td>138.2</td>\n",
              "    </tr>\n",
              "    <tr>\n",
              "      <th>2015-08-17 15:24:00</th>\n",
              "      <td>138.8</td>\n",
              "    </tr>\n",
              "    <tr>\n",
              "      <th>2015-08-17 15:25:00</th>\n",
              "      <td>139.4</td>\n",
              "    </tr>\n",
              "    <tr>\n",
              "      <th>2015-08-17 15:26:00</th>\n",
              "      <td>139.6</td>\n",
              "    </tr>\n",
              "    <tr>\n",
              "      <th>2015-08-17 15:27:00</th>\n",
              "      <td>139.8</td>\n",
              "    </tr>\n",
              "    <tr>\n",
              "      <th>2015-08-17 15:28:00</th>\n",
              "      <td>139.0</td>\n",
              "    </tr>\n",
              "  </tbody>\n",
              "</table>\n",
              "</div><br><label><b>dtype:</b> float64</label>"
            ]
          },
          "metadata": {},
          "execution_count": 181
        }
      ]
    },
    {
      "cell_type": "markdown",
      "source": [
        "Holt-Winters Exponential Smoothing Model"
      ],
      "metadata": {
        "id": "zGloCtZoTvkI"
      }
    },
    {
      "cell_type": "code",
      "source": [
        "exp_smoothing_model = ExponentialSmoothing(train_df[\"Heart_Rate\"], trend=\"add\", seasonal=\"add\", seasonal_periods=12).fit()"
      ],
      "metadata": {
        "id": "zsGyDKP8Icrh"
      },
      "execution_count": 182,
      "outputs": []
    },
    {
      "cell_type": "markdown",
      "source": [
        "ARIMA Model"
      ],
      "metadata": {
        "id": "LrnFYWAxUzoD"
      }
    },
    {
      "cell_type": "code",
      "source": [
        "auto_arima_model = auto_arima(train_df[\"Heart_Rate\"], seasonal=False, trace=False, suppress_warnings=True)\n",
        "arima_model = ARIMA(train_df[\"Heart_Rate\"], order=auto_arima_model.order).fit()\n"
      ],
      "metadata": {
        "id": "fLAYrB0MSahR"
      },
      "execution_count": 183,
      "outputs": []
    },
    {
      "cell_type": "markdown",
      "source": [
        "SARIMA Model"
      ],
      "metadata": {
        "id": "9E7-zoUTVhtJ"
      }
    },
    {
      "cell_type": "code",
      "source": [
        "auto_sarima_model = auto_arima(train_df[\"Heart_Rate\"], seasonal=True, m=12, trace=False, suppress_warnings=True)\n",
        "sarima_model = SARIMAX(train_df[\"Heart_Rate\"], order=auto_sarima_model.order, seasonal_order=auto_sarima_model.seasonal_order).fit()"
      ],
      "metadata": {
        "id": "aJd5qiZ1VPY6"
      },
      "execution_count": 184,
      "outputs": []
    },
    {
      "cell_type": "markdown",
      "source": [
        "TBATS Model"
      ],
      "metadata": {
        "id": "-8Qxj5bIVr0_"
      }
    },
    {
      "cell_type": "code",
      "source": [
        "tbats_model = TBATS(seasonal_periods=[12]).fit(train_df[\"Heart_Rate\"])\n"
      ],
      "metadata": {
        "id": "nd13gzVnVbWV"
      },
      "execution_count": 185,
      "outputs": []
    },
    {
      "cell_type": "markdown",
      "source": [
        "**Model Predictions**\n",
        "\n",
        "generate predictions from trained models."
      ],
      "metadata": {
        "id": "qrs92wSoV55L"
      }
    },
    {
      "cell_type": "markdown",
      "source": [
        "Moving Average Model Prediction"
      ],
      "metadata": {
        "id": "p29jqiwoWlpI"
      }
    },
    {
      "cell_type": "code",
      "source": [
        "moving_avg_pred = moving_avg_forecast[-20:]\n",
        "# print(f'Top 5 prediction {moving_avg_pred.head(5)}')\n",
        "\n",
        "mse = mean_squared_error(test_df[\"Heart_Rate\"], moving_avg_pred)\n",
        "mae = mean_absolute_error(test_df[\"Heart_Rate\"], moving_avg_pred)\n",
        "r2 = r2_score(test_df[\"Heart_Rate\"], moving_avg_pred)\n",
        "mape = np.mean(np.abs((test_df[\"Heart_Rate\"] - moving_avg_pred) / test_df[\"Heart_Rate\"])) * 100\n",
        "\n",
        "print(f\"Moving Average Model Evaluation Metrics - MSE: {mse}, MAE: {mae}, R2: {r2}, MAPE: {mape}\")"
      ],
      "metadata": {
        "id": "IZ23gdzSVqC6",
        "outputId": "5eb5c7e2-5161-40d2-94c1-95a205e11725",
        "colab": {
          "base_uri": "https://localhost:8080/"
        }
      },
      "execution_count": 153,
      "outputs": [
        {
          "output_type": "stream",
          "name": "stdout",
          "text": [
            "Moving Average Model Evaluation Metrics - MSE: 30.163999999999966, MAE: 3.7999999999999985, R2: 0.25686129588568696, MAPE: nan\n"
          ]
        }
      ]
    },
    {
      "cell_type": "markdown",
      "source": [
        "Holt-Winters Model Prediction"
      ],
      "metadata": {
        "id": "fB-sCO-rXYs2"
      }
    },
    {
      "cell_type": "code",
      "source": [
        "exp_smoothing_pred = exp_smoothing_model.forecast(steps=20)\n",
        "exp_smoothing_pred.head(20)\n",
        "\n",
        "mse = mean_squared_error(test_df[\"Heart_Rate\"], exp_smoothing_pred)\n",
        "mae = mean_absolute_error(test_df[\"Heart_Rate\"], exp_smoothing_pred)\n",
        "r2 = r2_score(test_df[\"Heart_Rate\"], exp_smoothing_pred)\n",
        "mape = np.mean(np.abs((test_df[\"Heart_Rate\"] - exp_smoothing_pred) / test_df[\"Heart_Rate\"])) * 100\n",
        "\n",
        "print(f\"Holt-Winters Model Evaluation Metrics - MSE: {mse}, MAE: {mae}, R2: {r2}, MAPE: {mape}\")"
      ],
      "metadata": {
        "id": "L6_qnxa6WDvJ",
        "outputId": "f280cf0e-95f4-4e15-ed54-3e1b7230b6cb",
        "colab": {
          "base_uri": "https://localhost:8080/"
        }
      },
      "execution_count": 173,
      "outputs": [
        {
          "output_type": "stream",
          "name": "stdout",
          "text": [
            "Holt-Winters Model Evaluation Metrics - MSE: 26021931.654038657, MAE: 4120.51503703297, R2: -641091.1816713145, MAPE: 2671.4836383172524\n"
          ]
        }
      ]
    },
    {
      "cell_type": "markdown",
      "source": [
        "ARIMA Model Prediction"
      ],
      "metadata": {
        "id": "mN-WH6sOZKrz"
      }
    },
    {
      "cell_type": "code",
      "source": [
        "arima_pred = arima_model.forecast(steps=20)\n",
        "arima_pred.head(20)\n",
        "\n",
        "mse = mean_squared_error(test_df[\"Heart_Rate\"], arima_pred)\n",
        "mae = mean_absolute_error(test_df[\"Heart_Rate\"], arima_pred)\n",
        "r2 = r2_score(test_df[\"Heart_Rate\"], arima_pred)\n",
        "mape = np.mean(np.abs((test_df[\"Heart_Rate\"] - arima_pred) / test_df[\"Heart_Rate\"])) * 100\n",
        "\n",
        "print(f\"ARIMA Model Evaluation Metrics - MSE: {mse}, MAE: {mae}, R2: {r2}, MAPE: {mape}\")"
      ],
      "metadata": {
        "id": "ay5rpwpBW4xd",
        "outputId": "a9fecb7a-ec78-4b2e-b37f-98c5b0fc7c66",
        "colab": {
          "base_uri": "https://localhost:8080/"
        }
      },
      "execution_count": 174,
      "outputs": [
        {
          "output_type": "stream",
          "name": "stdout",
          "text": [
            "ARIMA Model Evaluation Metrics - MSE: 3910390.241997283, MAE: 1909.2492520652625, R2: -96337.75934952656, MAPE: 1263.6792212249197\n"
          ]
        }
      ]
    },
    {
      "cell_type": "markdown",
      "source": [
        "SARIMA Model Prediction"
      ],
      "metadata": {
        "id": "jKfbuXHvZatd"
      }
    },
    {
      "cell_type": "code",
      "source": [
        "sarima_pred = sarima_model.forecast(steps=20)\n",
        "sarima_pred.head(20)\n",
        "\n",
        "mse = mean_squared_error(test_df[\"Heart_Rate\"], sarima_pred)\n",
        "mae = mean_absolute_error(test_df[\"Heart_Rate\"], sarima_pred)\n",
        "r2 = r2_score(test_df[\"Heart_Rate\"], sarima_pred)\n",
        "mape = np.mean(np.abs((test_df[\"Heart_Rate\"] - sarima_pred) / test_df[\"Heart_Rate\"])) * 100\n",
        "\n",
        "print(f\"SARIMA Model Evaluation Metrics - MSE: {mse}, MAE: {mae}, R2: {r2}, MAPE: {mape}\")"
      ],
      "metadata": {
        "id": "bSNt9lb7Xi6u",
        "outputId": "5d61b7da-2877-47eb-bcba-b0290a904ecc",
        "colab": {
          "base_uri": "https://localhost:8080/"
        }
      },
      "execution_count": 175,
      "outputs": [
        {
          "output_type": "stream",
          "name": "stdout",
          "text": [
            "SARIMA Model Evaluation Metrics - MSE: 20573.591871566958, MAE: 138.61808922697796, R2: -505.8635592896516, MAPE: 91.43815955383077\n"
          ]
        }
      ]
    },
    {
      "cell_type": "markdown",
      "source": [
        "TBATS Model Prediction"
      ],
      "metadata": {
        "id": "1g_4R32dZ3yH"
      }
    },
    {
      "cell_type": "code",
      "source": [
        "tbats_pred = tbats_model.forecast(steps=20)\n",
        "\n",
        "mse = mean_squared_error(test_df[\"Heart_Rate\"], tbats_pred)\n",
        "mae = mean_absolute_error(test_df[\"Heart_Rate\"], tbats_pred)\n",
        "r2 = r2_score(test_df[\"Heart_Rate\"], tbats_pred)\n",
        "mape = np.mean(np.abs((test_df[\"Heart_Rate\"] - tbats_pred) / test_df[\"Heart_Rate\"])) * 100\n",
        "\n",
        "print(f\"TBATS Model Evaluation Metrics - MSE: {mse}, MAE: {mae}, R2: {r2}, MAPE: {mape}\")"
      ],
      "metadata": {
        "id": "83drQfsGZfBX",
        "outputId": "9986e1b1-cc5c-4d2d-b490-2074f7359208",
        "colab": {
          "base_uri": "https://localhost:8080/"
        }
      },
      "execution_count": 176,
      "outputs": [
        {
          "output_type": "stream",
          "name": "stdout",
          "text": [
            "TBATS Model Evaluation Metrics - MSE: 62.24344569167878, MAE: 7.0289755527909294, R2: -0.5334674967154172, MAPE: 4.578458171692336\n"
          ]
        }
      ]
    },
    {
      "cell_type": "markdown",
      "source": [
        "Visualize Predictions\n",
        "\n",
        "Actual vs Predicted Heart Rate Values."
      ],
      "metadata": {
        "id": "O3T90-T-eoCo"
      }
    },
    {
      "cell_type": "code",
      "source": [
        "models = {\n",
        "    \"Moving Average\": moving_avg_pred,\n",
        "    \"Holt-Winters\": exp_smoothing_pred,\n",
        "    \"ARIMA\": arima_pred,\n",
        "    \"SARIMA\": sarima_pred,\n",
        "    \"TBATS\": tbats_pred\n",
        "}\n",
        "plt.figure(figsize=(15, 8))\n",
        "plt.plot(test_df.index, test_df[\"Heart_Rate\"], label=\"Actual\", color=\"black\")\n",
        "\n",
        "for name, forecast in models.items():\n",
        "    plt.plot(test_df.index, forecast, linestyle=\"dotted\", label=name)\n",
        "\n",
        "plt.title(\"Heart Rate Predictions vs Actual Values\")\n",
        "plt.xlabel(\"Timestamp\")\n",
        "plt.ylabel(\"Heart Rate\")\n",
        "plt.legend()\n",
        "plt.grid(True)\n",
        "plt.show()\n"
      ],
      "metadata": {
        "id": "6QBNnTTpZoHD",
        "outputId": "ef98e613-175c-43a8-801e-e27de4eb89b6",
        "colab": {
          "base_uri": "https://localhost:8080/",
          "height": 453
        }
      },
      "execution_count": 57,
      "outputs": [
        {
          "output_type": "display_data",
          "data": {
            "text/plain": [
              "<Figure size 1500x800 with 1 Axes>"
            ],
            "image/png": "[encoded data removed]"
          },
          "metadata": {}
        }
      ]
    },
    {
      "cell_type": "code",
      "source": [
        "moving_avg_forecast.head(20)"
      ],
      "metadata": {
        "id": "GDO_Augtf1X4",
        "outputId": "b0651724-f4de-4ad2-a43a-3ea8be4bbc34",
        "colab": {
          "base_uri": "https://localhost:8080/",
          "height": 743
        }
      },
      "execution_count": 58,
      "outputs": [
        {
          "output_type": "execute_result",
          "data": {
            "text/plain": [
              "Timestamp\n",
              "2015-08-17 15:09:00             NaN\n",
              "2015-08-17 15:10:00             NaN\n",
              "2015-08-17 15:11:00             NaN\n",
              "2015-08-17 15:12:00             NaN\n",
              "2015-08-17 15:13:00   -5.014965e-07\n",
              "2015-08-17 15:14:00   -2.348049e-06\n",
              "2015-08-17 15:15:00   -3.838579e-06\n",
              "2015-08-17 15:16:00   -2.301699e-06\n",
              "2015-08-17 15:17:00   -6.504873e-07\n",
              "2015-08-17 15:18:00    1.354232e-06\n",
              "2015-08-17 15:19:00    1.381794e-06\n",
              "2015-08-17 15:20:00    1.710254e-06\n",
              "2015-08-17 15:21:00    1.992027e-06\n",
              "2015-08-17 15:22:00    6.504873e-07\n",
              "2015-08-17 15:23:00    1.251204e-06\n",
              "2015-08-17 15:24:00    9.662545e-07\n",
              "2015-08-17 15:25:00    9.474671e-07\n",
              "2015-08-17 15:26:00    3.096721e-07\n",
              "2015-08-17 15:27:00    3.157672e-07\n",
              "2015-08-17 15:28:00   -1.251204e-06\n",
              "Name: Heart_Rate, dtype: float64"
            ],
            "text/html": [
              "<div>\n",
              "<style scoped>\n",
              "    .dataframe tbody tr th:only-of-type {\n",
              "        vertical-align: middle;\n",
              "    }\n",
              "\n",
              "    .dataframe tbody tr th {\n",
              "        vertical-align: top;\n",
              "    }\n",
              "\n",
              "    .dataframe thead th {\n",
              "        text-align: right;\n",
              "    }\n",
              "</style>\n",
              "<table border=\"1\" class=\"dataframe\">\n",
              "  <thead>\n",
              "    <tr style=\"text-align: right;\">\n",
              "      <th></th>\n",
              "      <th>Heart_Rate</th>\n",
              "    </tr>\n",
              "    <tr>\n",
              "      <th>Timestamp</th>\n",
              "      <th></th>\n",
              "    </tr>\n",
              "  </thead>\n",
              "  <tbody>\n",
              "    <tr>\n",
              "      <th>2015-08-17 15:09:00</th>\n",
              "      <td>NaN</td>\n",
              "    </tr>\n",
              "    <tr>\n",
              "      <th>2015-08-17 15:10:00</th>\n",
              "      <td>NaN</td>\n",
              "    </tr>\n",
              "    <tr>\n",
              "      <th>2015-08-17 15:11:00</th>\n",
              "      <td>NaN</td>\n",
              "    </tr>\n",
              "    <tr>\n",
              "      <th>2015-08-17 15:12:00</th>\n",
              "      <td>NaN</td>\n",
              "    </tr>\n",
              "    <tr>\n",
              "      <th>2015-08-17 15:13:00</th>\n",
              "      <td>-5.014965e-07</td>\n",
              "    </tr>\n",
              "    <tr>\n",
              "      <th>2015-08-17 15:14:00</th>\n",
              "      <td>-2.348049e-06</td>\n",
              "    </tr>\n",
              "    <tr>\n",
              "      <th>2015-08-17 15:15:00</th>\n",
              "      <td>-3.838579e-06</td>\n",
              "    </tr>\n",
              "    <tr>\n",
              "      <th>2015-08-17 15:16:00</th>\n",
              "      <td>-2.301699e-06</td>\n",
              "    </tr>\n",
              "    <tr>\n",
              "      <th>2015-08-17 15:17:00</th>\n",
              "      <td>-6.504873e-07</td>\n",
              "    </tr>\n",
              "    <tr>\n",
              "      <th>2015-08-17 15:18:00</th>\n",
              "      <td>1.354232e-06</td>\n",
              "    </tr>\n",
              "    <tr>\n",
              "      <th>2015-08-17 15:19:00</th>\n",
              "      <td>1.381794e-06</td>\n",
              "    </tr>\n",
              "    <tr>\n",
              "      <th>2015-08-17 15:20:00</th>\n",
              "      <td>1.710254e-06</td>\n",
              "    </tr>\n",
              "    <tr>\n",
              "      <th>2015-08-17 15:21:00</th>\n",
              "      <td>1.992027e-06</td>\n",
              "    </tr>\n",
              "    <tr>\n",
              "      <th>2015-08-17 15:22:00</th>\n",
              "      <td>6.504873e-07</td>\n",
              "    </tr>\n",
              "    <tr>\n",
              "      <th>2015-08-17 15:23:00</th>\n",
              "      <td>1.251204e-06</td>\n",
              "    </tr>\n",
              "    <tr>\n",
              "      <th>2015-08-17 15:24:00</th>\n",
              "      <td>9.662545e-07</td>\n",
              "    </tr>\n",
              "    <tr>\n",
              "      <th>2015-08-17 15:25:00</th>\n",
              "      <td>9.474671e-07</td>\n",
              "    </tr>\n",
              "    <tr>\n",
              "      <th>2015-08-17 15:26:00</th>\n",
              "      <td>3.096721e-07</td>\n",
              "    </tr>\n",
              "    <tr>\n",
              "      <th>2015-08-17 15:27:00</th>\n",
              "      <td>3.157672e-07</td>\n",
              "    </tr>\n",
              "    <tr>\n",
              "      <th>2015-08-17 15:28:00</th>\n",
              "      <td>-1.251204e-06</td>\n",
              "    </tr>\n",
              "  </tbody>\n",
              "</table>\n",
              "</div><br><label><b>dtype:</b> float64</label>"
            ]
          },
          "metadata": {},
          "execution_count": 58
        }
      ]
    },
    {
      "cell_type": "code",
      "source": [],
      "metadata": {
        "id": "5R-tJTYDgkF-"
      },
      "execution_count": null,
      "outputs": []
    }
  ]
}